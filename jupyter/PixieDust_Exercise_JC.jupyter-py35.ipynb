{
 "cells": [
  {
   "cell_type": "code",
   "execution_count": 5,
   "metadata": {
    "collapsed": false,
    "deletable": true,
    "editable": true
   },
   "outputs": [
    {
     "name": "stdout",
     "output_type": "stream",
     "text": [
      "Spark Job Progress Monitor already enabled\n"
     ]
    }
   ],
   "source": [
    "import pixiedust\n",
    "pixiedust.enableJobMonitor()"
   ]
  },
  {
   "cell_type": "code",
   "execution_count": 6,
   "metadata": {
    "collapsed": false
   },
   "outputs": [
    {
     "data": {
      "text/html": [
       "<div>\n",
       "<table border=\"1\" class=\"dataframe\">\n",
       "  <thead>\n",
       "    <tr style=\"text-align: right;\">\n",
       "      <th></th>\n",
       "      <th>﻿ID</th>\n",
       "      <th>Sex</th>\n",
       "      <th>Age</th>\n",
       "      <th>Region</th>\n",
       "      <th>Children</th>\n",
       "      <th>Est_Income</th>\n",
       "      <th>Car_Owner</th>\n",
       "      <th>Status</th>\n",
       "      <th>Lifetime Segments</th>\n",
       "      <th>Loyalty Level</th>\n",
       "      <th>International Segments</th>\n",
       "      <th>Local Segments</th>\n",
       "      <th>Cancellations</th>\n",
       "      <th>Type Travel</th>\n",
       "      <th>Customer_Segments</th>\n",
       "      <th>Trips_To_The_Website_Yr</th>\n",
       "    </tr>\n",
       "  </thead>\n",
       "  <tbody>\n",
       "    <tr>\n",
       "      <th>0</th>\n",
       "      <td>1</td>\n",
       "      <td>F</td>\n",
       "      <td>24.393333</td>\n",
       "      <td>2</td>\n",
       "      <td>1</td>\n",
       "      <td>38000.00</td>\n",
       "      <td>N</td>\n",
       "      <td>S</td>\n",
       "      <td>229.64</td>\n",
       "      <td>3</td>\n",
       "      <td>0.0</td>\n",
       "      <td>206.08</td>\n",
       "      <td>0</td>\n",
       "      <td>Business</td>\n",
       "      <td>High Income Families</td>\n",
       "      <td>46</td>\n",
       "    </tr>\n",
       "    <tr>\n",
       "      <th>1</th>\n",
       "      <td>6</td>\n",
       "      <td>M</td>\n",
       "      <td>49.426667</td>\n",
       "      <td>3</td>\n",
       "      <td>2</td>\n",
       "      <td>29616.00</td>\n",
       "      <td>N</td>\n",
       "      <td>M</td>\n",
       "      <td>75.29</td>\n",
       "      <td>2</td>\n",
       "      <td>0.0</td>\n",
       "      <td>45.50</td>\n",
       "      <td>0</td>\n",
       "      <td>Personal</td>\n",
       "      <td>Low Value and No Kids</td>\n",
       "      <td>15</td>\n",
       "    </tr>\n",
       "    <tr>\n",
       "      <th>2</th>\n",
       "      <td>8</td>\n",
       "      <td>M</td>\n",
       "      <td>50.673333</td>\n",
       "      <td>1</td>\n",
       "      <td>0</td>\n",
       "      <td>19732.80</td>\n",
       "      <td>N</td>\n",
       "      <td>M</td>\n",
       "      <td>47.25</td>\n",
       "      <td>3</td>\n",
       "      <td>0.0</td>\n",
       "      <td>22.44</td>\n",
       "      <td>0</td>\n",
       "      <td>Business</td>\n",
       "      <td>High Income Families</td>\n",
       "      <td>9</td>\n",
       "    </tr>\n",
       "    <tr>\n",
       "      <th>3</th>\n",
       "      <td>11</td>\n",
       "      <td>M</td>\n",
       "      <td>56.473333</td>\n",
       "      <td>3</td>\n",
       "      <td>2</td>\n",
       "      <td>96.33</td>\n",
       "      <td>N</td>\n",
       "      <td>S</td>\n",
       "      <td>59.01</td>\n",
       "      <td>1</td>\n",
       "      <td>0.0</td>\n",
       "      <td>32.88</td>\n",
       "      <td>1</td>\n",
       "      <td>Business</td>\n",
       "      <td>High Income Families</td>\n",
       "      <td>12</td>\n",
       "    </tr>\n",
       "    <tr>\n",
       "      <th>4</th>\n",
       "      <td>14</td>\n",
       "      <td>F</td>\n",
       "      <td>25.140000</td>\n",
       "      <td>3</td>\n",
       "      <td>2</td>\n",
       "      <td>52004.80</td>\n",
       "      <td>N</td>\n",
       "      <td>M</td>\n",
       "      <td>28.14</td>\n",
       "      <td>1</td>\n",
       "      <td>0.0</td>\n",
       "      <td>23.11</td>\n",
       "      <td>0</td>\n",
       "      <td>Personal</td>\n",
       "      <td>Low Value and No Kids</td>\n",
       "      <td>6</td>\n",
       "    </tr>\n",
       "  </tbody>\n",
       "</table>\n",
       "</div>"
      ],
      "text/plain": [
       "   ﻿ID Sex        Age  Region  Children  Est_Income Car_Owner Status  \\\n",
       "0    1   F  24.393333       2         1    38000.00         N      S   \n",
       "1    6   M  49.426667       3         2    29616.00         N      M   \n",
       "2    8   M  50.673333       1         0    19732.80         N      M   \n",
       "3   11   M  56.473333       3         2       96.33         N      S   \n",
       "4   14   F  25.140000       3         2    52004.80         N      M   \n",
       "\n",
       "   Lifetime Segments  Loyalty Level  International Segments  Local Segments  \\\n",
       "0             229.64              3                     0.0          206.08   \n",
       "1              75.29              2                     0.0           45.50   \n",
       "2              47.25              3                     0.0           22.44   \n",
       "3              59.01              1                     0.0           32.88   \n",
       "4              28.14              1                     0.0           23.11   \n",
       "\n",
       "   Cancellations Type Travel      Customer_Segments  Trips_To_The_Website_Yr  \n",
       "0              0    Business   High Income Families                       46  \n",
       "1              0    Personal  Low Value and No Kids                       15  \n",
       "2              0    Business   High Income Families                        9  \n",
       "3              1    Business   High Income Families                       12  \n",
       "4              0    Personal  Low Value and No Kids                        6  "
      ]
     },
     "execution_count": 6,
     "metadata": {},
     "output_type": "execute_result"
    }
   ],
   "source": [
    "import os, pandas as pd\n",
    "# Add asset from file system\n",
    "df_airline = pd.read_csv(os.environ['DSX_PROJECT_DIR']+'/datasets/Airline_Customer_Data.csv')\n",
    "df_airline.head()"
   ]
  },
  {
   "cell_type": "code",
   "execution_count": 7,
   "metadata": {
    "collapsed": false,
    "pixiedust": {
     "displayParams": {
      "handlerId": "lineChart"
     }
    }
   },
   "outputs": [
    {
     "data": {
      "text/html": [
       "<style type=\"text/css\">.pd_warning{display:none;}</style><div class=\"pd_warning\"><em>Hey, there's something awesome here! To see it, open this notebook outside GitHub, in a viewer like Jupyter</em></div>"
      ],
      "text/plain": [
       "<IPython.core.display.HTML object>"
      ]
     },
     "metadata": {
      "pixieapp_metadata": null
     },
     "output_type": "display_data"
    }
   ],
   "source": [
    "display(df_airline)"
   ]
  }
 ],
 "metadata": {
  "kernelspec": {
   "display_name": "Python3.5 with DSX Spark 2.2.1",
   "language": "python",
   "name": "python3"
  },
  "language_info": {
   "codemirror_mode": {
    "name": "ipython",
    "version": 3
   },
   "file_extension": ".py",
   "mimetype": "text/x-python",
   "name": "python",
   "nbconvert_exporter": "python",
   "pygments_lexer": "ipython3",
   "version": "3.5.2"
  }
 },
 "nbformat": 4,
 "nbformat_minor": 2
}
